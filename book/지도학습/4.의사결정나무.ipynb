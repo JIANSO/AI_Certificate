{
 "cells": [
  {
   "cell_type": "markdown",
   "id": "1a93ee86-3e92-441e-b12c-b4ae371fbe55",
   "metadata": {},
   "source": [
    "###1) 의사결정나무 이해하기"
   ]
  },
  {
   "cell_type": "markdown",
   "id": "41b7df75-5f8f-4343-8c8a-83db64efc9f5",
   "metadata": {},
   "source": [
    "###2) 의사결정나무 실습하기"
   ]
  },
  {
   "cell_type": "markdown",
   "id": "f1e6784f-bcc1-4ed5-a287-22e771250b13",
   "metadata": {},
   "source": [
    "건강검진 데이터를 가지고 음주 여부를 성별, 키, 체중 데이터를 기반으로 \n",
    "의사결정나무로 학습하고, 결과를 통해 의사결정나무의 원리를 알아본다."
   ]
  },
  {
   "cell_type": "markdown",
   "id": "364caf1c-6e1d-4615-8b45-613f07a79ad4",
   "metadata": {},
   "source": [
    "(1) 데이터 준비하기"
   ]
  },
  {
   "cell_type": "code",
   "execution_count": null,
   "id": "950b5bde-22e9-496b-ace1-fdfd17689840",
   "metadata": {},
   "outputs": [],
   "source": [
    "#라이브러리 불러오기\n",
    "import numpy as np\n",
    "import pandas as pd\n",
    "from sklearn.model_selection import train_test_split\n",
    "\n",
    "#데이터 불러오기\n",
    "df = pd.read_csv(\"국민건강보험공단_건강검진정보_20211229.csv\", encoding='cp949')\n",
    "\n",
    "#트리 예시를 만들기 위해 일부 특성만 추출하기\n",
    "sample_df = df[['신장(5cm 단위)', '성별코드', '체중(5kg 단위)', '음주여부']]\n",
    "\n",
    "#샘플 데이터 중 상위 10개 추출하기\n",
    "sample_df[:10]"
   ]
  },
  {
   "cell_type": "markdown",
   "id": "f28ad376-76e8-4e1c-99a7-12d701ca381c",
   "metadata": {},
   "source": [
    "(2) 데이터 전처리하기"
   ]
  },
  {
   "cell_type": "code",
   "execution_count": null,
   "id": "5e495fc5-86e5-438e-a7a7-f0dcc39291aa",
   "metadata": {},
   "outputs": [],
   "source": [
    "#info 정보로 결측치 확인하기\n",
    "sample_df.info()"
   ]
  },
  {
   "cell_type": "code",
   "execution_count": null,
   "id": "c7a5ee2b-712a-4de2-9ccc-d84ed5816b4b",
   "metadata": {},
   "outputs": [],
   "source": [
    "약 100만건의 데이터 중 음주여부 칼럼에 결측치가 일부 존재하여, 196건의 데이터를 드롭 처리하여 최종 학습 데이터로 준비한다.\n",
    "Label 데이터에 편향이 심하지 않은지 불균형 여부도 확인한다."
   ]
  },
  {
   "cell_type": "code",
   "execution_count": null,
   "id": "035b0c48-8de7-4c53-9c2f-d176e1621275",
   "metadata": {},
   "outputs": [],
   "source": [
    "#100만개 데이터 중 196개, 결측치가 포함된 행 삭제하기\n",
    "sample = sample_df.dropna()"
   ]
  },
  {
   "cell_type": "code",
   "execution_count": null,
   "id": "595bbb55-91eb-43c0-b344-cd99f7a688c5",
   "metadata": {},
   "outputs": [],
   "source": [
    "#결측치 다시 확인하기\n",
    "sample.info()"
   ]
  },
  {
   "cell_type": "code",
   "execution_count": null,
   "id": "ee833460-28ca-471a-8c66-3ef30d478450",
   "metadata": {},
   "outputs": [],
   "source": [
    "#원핫 인코딩을 위해 데이터 object 형태로 변경하기\n",
    "sample = sample.astype('str')\n",
    "\n",
    "#label(결과, Y) 생성하기\n",
    "y = sample.음주여부\n",
    "\n",
    "#음주여부 학습 데이터 구성하기\n",
    "X = sample.drop('음주여부', axis=1)\n",
    "\n",
    "#label 데이터의 편향성 확인하기\n",
    "y.value_counts()"
   ]
  },
  {
   "cell_type": "code",
   "execution_count": null,
   "id": "48578522-d169-492e-b870-971e3fc1873f",
   "metadata": {},
   "outputs": [],
   "source": [
    "#해당 데이터를 학습 데이터와 검증 데이터로 분리하기\n",
    "x_train, x_valid, y_train, y_valid = train_test_split(X, y, test_size=0.2, shuffle=True, random_state=34)"
   ]
  },
  {
   "cell_type": "markdown",
   "id": "0b379a4b-4a69-4348-a5e5-1461b88b4142",
   "metadata": {},
   "source": [
    "(3) 의사결정나무 모델링하기"
   ]
  },
  {
   "cell_type": "code",
   "execution_count": null,
   "id": "eaee0e43-3ef7-4cbd-b27d-1ea6afe64499",
   "metadata": {},
   "outputs": [],
   "source": [
    "#의사결정나무 모델 불러오기\n",
    "from sklearn.tree import DecisionTreeClassifier\n",
    "\n",
    "#의사결정나무 모델 생성하기\n",
    "dt = DecisionTreeClassifier(random_state=1001, max_depth=2)\n",
    "\n",
    "#의사결정나무 학습히가\n",
    "dt_model = df.fit(x_train, y_train)\n",
    "\n",
    "#학습데이터 정확도 확인하기\n",
    "print( dt_model.score(x_train, y_train) )\n",
    "\n",
    "#검증데이터 정확도 확힌하기\n",
    "print( df_model.score(x_valid, y_valid) )"
   ]
  },
  {
   "cell_type": "markdown",
   "id": "f98725ae-db48-44c5-84c8-23fa4b1addfb",
   "metadata": {},
   "source": [
    "(4) 의사결정나무 그래프 그리기"
   ]
  },
  {
   "cell_type": "markdown",
   "id": "0b3e0c07-7961-4ee9-9889-1ee3d57f3293",
   "metadata": {},
   "source": [
    "graphviz 라이브러리를 활용하여 학습된 의사결정나무 모델의 그래프를 출력한다."
   ]
  },
  {
   "cell_type": "code",
   "execution_count": null,
   "id": "1bcbc70e-d342-4435-96ea-96ab23f95229",
   "metadata": {},
   "outputs": [],
   "source": [
    "#그래프 라이브러리 불러오기\n",
    "import matplotlib.pyplot as plt\n",
    "\n",
    "#트리 모양 그래프 작성을 위한 라이브러리 설치하기\n",
    "!pip install graphviz\n",
    "\n",
    "#그래프 라이브러리 불러오기\n",
    "import graphviz\n",
    "\n",
    "#사이킷런의 graphviz 지원 모듈 불러오기\n",
    "from sklearn.tree import export_graphviz\n",
    "\n",
    "#그래프 생성하기\n",
    "tree_graph = graphviz.Source(export_graphviz(dt_model, \n",
    "                                             class_names=[\"X\", \"O\"],\n",
    "                                             feature_names=['height', 'sex', 'weight'],\n",
    "                                             impurity=True,\n",
    "                                             filled=True))\n",
    "\n",
    "#그래프 출력하기\n",
    "tree_graph\n",
    "\n",
    "#그래프 파일 저장하기\n",
    "tree_graph.render('tree_depth5', format=\"png\")"
   ]
  },
  {
   "cell_type": "markdown",
   "id": "e2a44bd4-3ad4-4cdc-bb4e-73f75a53bfd6",
   "metadata": {},
   "source": [
    "###3) 불순도 알아보기"
   ]
  },
  {
   "cell_type": "markdown",
   "id": "7b87c525-43b7-4d3b-9c55-2148da70cdec",
   "metadata": {},
   "source": [
    "순도가 낮은 경우, 즉 다양한 데이터가 섞여 있는 경우를 말한다. \n",
    "\n",
    "예시 : \n",
    "과일바구니 2에서 3개의 레이블(사과, 바나나, 복숭아) 각각이 전체에서 차지하는 비율을 계산한다.\n",
    "사과는 2/9, 바나나는 4/9, 복숭아는 3/9이다. 해당 비율을 모두 제곱하여 더한 후 전체의 1에서 빼준다."
   ]
  },
  {
   "cell_type": "code",
   "execution_count": null,
   "id": "35cf58dd-25a0-49bd-9ee5-5171bb7c3d34",
   "metadata": {},
   "outputs": [],
   "source": [
    "#불순도 함수 생성하기\n",
    "def gini(x) :\n",
    "    n = x.sum()\n",
    "    gini_sum = 0\n",
    "    for key in x.keys() :\n",
    "        gini_sum = gini_sum + (x[key]/n)*(x[key]/n)\n",
    "    gini = 1-gini_sum\n",
    "    return gini\n",
    "\n",
    "#데이터 준비하기(불순도 예시)\n",
    "과일바구니1 = ['사과']*9\n",
    "과일바구니2 = ['사과', '바나나', '사과', '바나나', '바나나', '바나나', '복숭아', '복숭아', '복숭아']\n",
    "과일바구니3 = ['사과', '바나나', '사과', '바나나', '사과', '복숭아', '복숭아', '사과', '복숭아']"
   ]
  },
  {
   "cell_type": "markdown",
   "id": "bb887a60-2924-44d3-8231-b5691250399d",
   "metadata": {},
   "source": [
    "의사결정나무는 지니계수와 같은 불순도 지표를 기반으로 각 노드에서 불순도를 최소화하는 최적의 분할 조건을 구하며 데이터를 학습한다."
   ]
  }
 ],
 "metadata": {
  "kernelspec": {
   "display_name": "Python 3 (ipykernel)",
   "language": "python",
   "name": "python3"
  },
  "language_info": {
   "codemirror_mode": {
    "name": "ipython",
    "version": 3
   },
   "file_extension": ".py",
   "mimetype": "text/x-python",
   "name": "python",
   "nbconvert_exporter": "python",
   "pygments_lexer": "ipython3",
   "version": "3.9.18"
  }
 },
 "nbformat": 4,
 "nbformat_minor": 5
}
