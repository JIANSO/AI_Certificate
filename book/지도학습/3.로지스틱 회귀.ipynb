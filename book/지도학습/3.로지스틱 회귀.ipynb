{
 "cells": [
  {
   "cell_type": "markdown",
   "id": "e3437a0c-9175-4255-88af-20b5e13fef52",
   "metadata": {},
   "source": [
    "###1) 로지스틱 회귀 이해하기"
   ]
  },
  {
   "cell_type": "markdown",
   "id": "0d9845bb-dd14-44dd-bf4c-a535dcb2e9ae",
   "metadata": {},
   "source": [
    "####(1) 시그모이드 함수 만들기"
   ]
  },
  {
   "cell_type": "code",
   "execution_count": 2,
   "id": "39521d08-c240-45f1-83af-ae06e3e2cd93",
   "metadata": {},
   "outputs": [
    {
     "name": "stdout",
     "output_type": "stream",
     "text": [
      "[0.26894142 0.5        0.73105858]\n"
     ]
    }
   ],
   "source": [
    "#numpy 라이브러리 및 그래프 라이브러리 불러오기\n",
    "import numpy as np\n",
    "import matplotlib.pyplot as plt\n",
    "\n",
    "#Sigmoid 함수 작성하기\n",
    "def sigmoid(x) : \n",
    "\n",
    "    #numpy.exp() 함수는 밑이 자연상수 e 인 지수함수(e^x)로 변환\n",
    "    return 1 / (1 + np.exp(-x))\n",
    "\n",
    "#함수 테스트용 데이터 생성하기\n",
    "test = np.array([-1, 0, 1])\n",
    "\n",
    "#작성된 함수 확인하기\n",
    "print(sigmoid(test))"
   ]
  },
  {
   "cell_type": "markdown",
   "id": "9290022a-6876-4c57-b7f3-620f404de109",
   "metadata": {},
   "source": [
    "####(2) 시그모이드 함수 그래프 그리기"
   ]
  },
  {
   "cell_type": "code",
   "execution_count": 3,
   "id": "828961b8-6261-49f2-b623-55eaa83a4f6c",
   "metadata": {},
   "outputs": [
    {
     "data": {
      "image/png": "[encoded data removed]",
      "text/plain": [
       "<Figure size 640x480 with 1 Axes>"
      ]
     },
     "metadata": {},
     "output_type": "display_data"
    }
   ],
   "source": [
    "#그래프 적용을 위한 데이터 만들기\n",
    "sigmoid_x = range(-6,7)\n",
    "sigmoid_y = sigmoid(np.array(sigmoid_x))\n",
    "\n",
    "#선 그래프 그리기\n",
    "plt.plot(sigmoid_x, sigmoid_y, color='blue', linewidth=0.5)\n",
    "\n",
    "#백그라운드 모눈종이 설정하기\n",
    "plt.rcParams['axes.grid'] = True\n",
    "\n",
    "#선 굵기 설정하기\n",
    "plt.axvline(x=0, color='black', linewidth=3)\n",
    "\n",
    "#y축 범위 설정하기\n",
    "plt.yticks([0,0.5,1])\n",
    "\n",
    "plt.show()\n"
   ]
  },
  {
   "cell_type": "markdown",
   "id": "40d0f355-d1bc-4a36-80ed-91272aefa62c",
   "metadata": {},
   "source": [
    "이 그래프를 통해 -6부터 6까지 입력값들을 0과 1사이의 값으로 변환해주는 로지스틱 함수가 잘 구현된 것을 확인할 수 있다."
   ]
  },
  {
   "cell_type": "markdown",
   "id": "9e7dee29-8f2b-41db-b16e-04f343235a4c",
   "metadata": {},
   "source": [
    "###2) 로지스틱 회귀 실습하기"
   ]
  },
  {
   "cell_type": "markdown",
   "id": "ce4ad34f-c22c-4122-ac77-284f48440d78",
   "metadata": {},
   "source": [
    "####(1) 데이터 구성하기"
   ]
  },
  {
   "cell_type": "code",
   "execution_count": 4,
   "id": "3fffb2b5-4c25-45b7-9a48-8d73b4073915",
   "metadata": {},
   "outputs": [
    {
     "name": "stdout",
     "output_type": "stream",
     "text": [
      "[[ 3]\n",
      " [ 4]\n",
      " [ 5]\n",
      " [ 6]\n",
      " [ 7]\n",
      " [ 8]\n",
      " [ 9]\n",
      " [10]\n",
      " [11]\n",
      " [12]\n",
      " [13]\n",
      " [14]\n",
      " [15]\n",
      " [16]\n",
      " [17]]\n",
      "[0 0 0 0 0 0 0 1 1 1 1 1 1 1 1]\n"
     ]
    }
   ],
   "source": [
    "#학습 데이터 생성하기\n",
    "x_train=[3,4,5,6,7,8,9,10,11,12,13,14,15,16,17]\n",
    "y_train=[0,0,0,0,0,0,0,1,1,1,1,1,1,1,1]\n",
    "\n",
    "#추론을 위한 데이터 생성하기\n",
    "x_test = [0,1,2,18,19]\n",
    "y_test = [0,0,0,1,1]\n",
    "\n",
    "#학습 데이터에 대해 numpy로 변경 및 행을 열로 변경하기\n",
    "x_train = np.array(x_train).reshape([-1,1])\n",
    "y_train = np.array(y_train)\n",
    "\n",
    "#추론 데이터에 대해 numpy로 변경 및 행을 열로 변겅하기\n",
    "x_test = np.array(x_test).reshape([-1,1])\n",
    "y_test = np.array(y_test)\n",
    "\n",
    "\n",
    "#데이터 확인하기\n",
    "print(x_train)\n",
    "print(y_train)"
   ]
  },
  {
   "cell_type": "markdown",
   "id": "c5fa792c-0d83-4af8-8787-0f92fd7f061e",
   "metadata": {},
   "source": [
    "####(2) 로지스틱 회귀 학습하기"
   ]
  },
  {
   "cell_type": "code",
   "execution_count": 5,
   "id": "89fc140f-862e-4182-b972-8bc974191117",
   "metadata": {},
   "outputs": [
    {
     "name": "stdout",
     "output_type": "stream",
     "text": [
      "intercept: [-11.34176791]\n",
      "coef: [[1.19388731]]\n"
     ]
    }
   ],
   "source": [
    "#로지스틱 회귀 라이브러리 불러오기\n",
    "from sklearn.linear_model import LogisticRegression\n",
    "\n",
    "#로지스틱 회귀 생성하기\n",
    "logi_reg = LogisticRegression()\n",
    "\n",
    "#학습하기\n",
    "logi_reg.fit(x_train, y_train)\n",
    "\n",
    "#역산을 위한 기울기와 절편이 있는지 확인하기\n",
    "print('intercept:', logi_reg.intercept_)\n",
    "print('coef:', logi_reg.coef_)"
   ]
  },
  {
   "cell_type": "markdown",
   "id": "08fb5798-0d47-4be1-a788-000cf124f674",
   "metadata": {},
   "source": [
    "이제 coef와 intercept를 이용하여 sigmoid 그래프를 그리고 데이터와 비교해본다."
   ]
  },
  {
   "cell_type": "markdown",
   "id": "607382ce-d03f-4744-a083-177a0b5cf500",
   "metadata": {},
   "source": [
    "####(3) 로지스틱 회귀 그래프 만들기"
   ]
  },
  {
   "cell_type": "code",
   "execution_count": 6,
   "id": "695268c7-36ec-4e36-a587-8e68c6ce9030",
   "metadata": {},
   "outputs": [
    {
     "data": {
      "image/png": "[encoded data removed]",
      "text/plain": [
       "<Figure size 640x480 with 1 Axes>"
      ]
     },
     "metadata": {},
     "output_type": "display_data"
    }
   ],
   "source": [
    "#기울기와 절편을 수동으로 결과 만들기\n",
    "odd = []\n",
    "for i in x_train :\n",
    "    odd.append( (logi_reg.coef_ * i)+logi_reg.intercept_ )\n",
    "\n",
    "sigmoid_y = sigmoid(np.array(odd))\n",
    "sigmoid_y = sigmoid_y.reshape(-1,1)\n",
    "\n",
    "#역산된 그래프 표시하기\n",
    "plt.scatter(x_train, y_train, color='red')\n",
    "plt.plot(np.array(x_train), sigmoid_y, color='blue')\n",
    "plt.rcParams['axes.grid'] = True\n",
    "plt.yticks([0, 0.5, 1])\n",
    "plt.ylim([-0.1, 1.1]) \n",
    "plt.show()\n"
   ]
  },
  {
   "cell_type": "markdown",
   "id": "6bbb9392-adcd-44f8-87ad-5ab4bf971864",
   "metadata": {},
   "source": [
    "###3) 로지스틱 회귀와 선형 회귀 비교하기"
   ]
  },
  {
   "cell_type": "markdown",
   "id": "dcf985a0-b8f5-4ef8-aae5-8eb15be3bb01",
   "metadata": {},
   "source": [
    "####(1) 선형 회귀 모델링하기"
   ]
  },
  {
   "cell_type": "code",
   "execution_count": 7,
   "id": "ada9f56e-f652-445d-8e92-c31b2cbb944a",
   "metadata": {},
   "outputs": [
    {
     "name": "stdout",
     "output_type": "stream",
     "text": [
      "intercept: -0.4666666666666667\n",
      "coef: [0.1]\n"
     ]
    }
   ],
   "source": [
    "#선형 회귀 함수 불러오기\n",
    "from sklearn.linear_model import LinearRegression\n",
    "\n",
    "#선형 회귀 생성하기\n",
    "lr = LinearRegression()\n",
    "\n",
    "#학습하기\n",
    "lr.fit(x_train, y_train)\n",
    "\n",
    "#수식 완성을 위한 coef와 intercept 확인하기\n",
    "print('intercept:', lr.intercept_)\n",
    "print('coef:', lr.coef_)"
   ]
  },
  {
   "cell_type": "markdown",
   "id": "99085554-602f-4fa3-9e18-498472ef29cf",
   "metadata": {},
   "source": [
    "####(2) 선형 회귀 모델과 로지스틱 회귀 모델 비교하기"
   ]
  },
  {
   "cell_type": "code",
   "execution_count": 10,
   "id": "7df31116-27b9-4e96-893f-cbcf98722151",
   "metadata": {},
   "outputs": [
    {
     "data": {
      "image/png": "[encoded data removed]",
      "text/plain": [
       "<Figure size 640x480 with 1 Axes>"
      ]
     },
     "metadata": {},
     "output_type": "display_data"
    },
    {
     "name": "stdout",
     "output_type": "stream",
     "text": [
      "1.0\n",
      "0.3981481481481479\n"
     ]
    }
   ],
   "source": [
    "coef_intercept = x_train*lr.coef_ + lr.intercept_\n",
    "\n",
    "plt.scatter(x_train, y_train, color='red')\n",
    "plt.plot(np.array(x_train), coef_intercept, color='green')\n",
    "plt.plot(np.array(x_train), sigmoid_y, color='blue')\n",
    "plt.rcParams['axes.grid'] = True\n",
    "plt.show()\n",
    "print(logi_reg.score(x_test, y_test))\n",
    "print(lr.score(x_test, y_test))"
   ]
  },
  {
   "cell_type": "code",
   "execution_count": null,
   "id": "df28b4d5-fb35-4d50-ba1e-2496df19a279",
   "metadata": {},
   "outputs": [],
   "source": []
  }
 ],
 "metadata": {
  "kernelspec": {
   "display_name": "Python 3 (ipykernel)",
   "language": "python",
   "name": "python3"
  },
  "language_info": {
   "codemirror_mode": {
    "name": "ipython",
    "version": 3
   },
   "file_extension": ".py",
   "mimetype": "text/x-python",
   "name": "python",
   "nbconvert_exporter": "python",
   "pygments_lexer": "ipython3",
   "version": "3.9.18"
  }
 },
 "nbformat": 4,
 "nbformat_minor": 5
}
