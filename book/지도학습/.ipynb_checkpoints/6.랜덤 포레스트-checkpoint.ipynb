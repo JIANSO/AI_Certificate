{
 "cells": [
  {
   "cell_type": "markdown",
   "id": "4f190f92-a1db-430d-b375-6eff6a4a41c0",
   "metadata": {},
   "source": [
    "1) 랜덤 포레스트 이해하기"
   ]
  },
  {
   "cell_type": "markdown",
   "id": "0f98dcf6-e8a4-411b-8683-4a12addebf81",
   "metadata": {},
   "source": [
    "2) 랜덤 포레스트 실습하기"
   ]
  },
  {
   "cell_type": "markdown",
   "id": "28201d2f-0c10-4364-b6ab-971068db355c",
   "metadata": {},
   "source": [
    "(1) 데이터 준비하기"
   ]
  },
  {
   "cell_type": "code",
   "execution_count": 3,
   "id": "a616e0cb-6a4e-4313-84f0-3e53158bf7c6",
   "metadata": {},
   "outputs": [
    {
     "name": "stdout",
     "output_type": "stream",
     "text": [
      "Requirement already satisfied: tensorflow==2.10.1 in c:\\users\\dothe\\anaconda3\\envs\\pyt39\\lib\\site-packages (2.10.1)\n",
      "Requirement already satisfied: absl-py>=1.0.0 in c:\\users\\dothe\\anaconda3\\envs\\pyt39\\lib\\site-packages (from tensorflow==2.10.1) (2.3.1)\n",
      "Requirement already satisfied: astunparse>=1.6.0 in c:\\users\\dothe\\anaconda3\\envs\\pyt39\\lib\\site-packages (from tensorflow==2.10.1) (1.6.3)\n",
      "Requirement already satisfied: flatbuffers>=2.0 in c:\\users\\dothe\\anaconda3\\envs\\pyt39\\lib\\site-packages (from tensorflow==2.10.1) (25.9.23)\n",
      "Requirement already satisfied: gast<=0.4.0,>=0.2.1 in c:\\users\\dothe\\anaconda3\\envs\\pyt39\\lib\\site-packages (from tensorflow==2.10.1) (0.4.0)\n",
      "Requirement already satisfied: google-pasta>=0.1.1 in c:\\users\\dothe\\anaconda3\\envs\\pyt39\\lib\\site-packages (from tensorflow==2.10.1) (0.2.0)\n",
      "Requirement already satisfied: h5py>=2.9.0 in c:\\users\\dothe\\anaconda3\\envs\\pyt39\\lib\\site-packages (from tensorflow==2.10.1) (3.14.0)\n",
      "Requirement already satisfied: keras-preprocessing>=1.1.1 in c:\\users\\dothe\\anaconda3\\envs\\pyt39\\lib\\site-packages (from tensorflow==2.10.1) (1.1.2)\n",
      "Requirement already satisfied: libclang>=13.0.0 in c:\\users\\dothe\\anaconda3\\envs\\pyt39\\lib\\site-packages (from tensorflow==2.10.1) (18.1.1)\n",
      "Requirement already satisfied: numpy>=1.20 in c:\\users\\dothe\\anaconda3\\envs\\pyt39\\lib\\site-packages (from tensorflow==2.10.1) (1.26.4)\n",
      "Requirement already satisfied: opt-einsum>=2.3.2 in c:\\users\\dothe\\anaconda3\\envs\\pyt39\\lib\\site-packages (from tensorflow==2.10.1) (3.4.0)\n",
      "Requirement already satisfied: packaging in c:\\users\\dothe\\anaconda3\\envs\\pyt39\\lib\\site-packages (from tensorflow==2.10.1) (24.2)\n",
      "Requirement already satisfied: protobuf<3.20,>=3.9.2 in c:\\users\\dothe\\anaconda3\\envs\\pyt39\\lib\\site-packages (from tensorflow==2.10.1) (3.19.6)\n",
      "Requirement already satisfied: setuptools in c:\\users\\dothe\\anaconda3\\envs\\pyt39\\lib\\site-packages (from tensorflow==2.10.1) (68.0.0)\n",
      "Requirement already satisfied: six>=1.12.0 in c:\\users\\dothe\\anaconda3\\envs\\pyt39\\lib\\site-packages (from tensorflow==2.10.1) (1.16.0)\n",
      "Requirement already satisfied: termcolor>=1.1.0 in c:\\users\\dothe\\anaconda3\\envs\\pyt39\\lib\\site-packages (from tensorflow==2.10.1) (3.1.0)\n",
      "Requirement already satisfied: typing-extensions>=3.6.6 in c:\\users\\dothe\\anaconda3\\envs\\pyt39\\lib\\site-packages (from tensorflow==2.10.1) (4.15.0)\n",
      "Requirement already satisfied: wrapt>=1.11.0 in c:\\users\\dothe\\anaconda3\\envs\\pyt39\\lib\\site-packages (from tensorflow==2.10.1) (1.17.3)\n",
      "Requirement already satisfied: tensorflow-io-gcs-filesystem>=0.23.1 in c:\\users\\dothe\\anaconda3\\envs\\pyt39\\lib\\site-packages (from tensorflow==2.10.1) (0.31.0)\n",
      "Requirement already satisfied: grpcio<2.0,>=1.24.3 in c:\\users\\dothe\\anaconda3\\envs\\pyt39\\lib\\site-packages (from tensorflow==2.10.1) (1.75.1)\n",
      "Requirement already satisfied: tensorboard<2.11,>=2.10 in c:\\users\\dothe\\anaconda3\\envs\\pyt39\\lib\\site-packages (from tensorflow==2.10.1) (2.10.1)\n",
      "Requirement already satisfied: tensorflow-estimator<2.11,>=2.10.0 in c:\\users\\dothe\\anaconda3\\envs\\pyt39\\lib\\site-packages (from tensorflow==2.10.1) (2.10.0)\n",
      "Requirement already satisfied: keras<2.11,>=2.10.0 in c:\\users\\dothe\\anaconda3\\envs\\pyt39\\lib\\site-packages (from tensorflow==2.10.1) (2.10.0)\n",
      "Requirement already satisfied: wheel<1.0,>=0.23.0 in c:\\users\\dothe\\anaconda3\\envs\\pyt39\\lib\\site-packages (from astunparse>=1.6.0->tensorflow==2.10.1) (0.41.2)\n",
      "Requirement already satisfied: google-auth<3,>=1.6.3 in c:\\users\\dothe\\anaconda3\\envs\\pyt39\\lib\\site-packages (from tensorboard<2.11,>=2.10->tensorflow==2.10.1) (2.41.1)\n",
      "Requirement already satisfied: google-auth-oauthlib<0.5,>=0.4.1 in c:\\users\\dothe\\anaconda3\\envs\\pyt39\\lib\\site-packages (from tensorboard<2.11,>=2.10->tensorflow==2.10.1) (0.4.6)\n",
      "Requirement already satisfied: markdown>=2.6.8 in c:\\users\\dothe\\anaconda3\\envs\\pyt39\\lib\\site-packages (from tensorboard<2.11,>=2.10->tensorflow==2.10.1) (3.9)\n",
      "Requirement already satisfied: requests<3,>=2.21.0 in c:\\users\\dothe\\anaconda3\\envs\\pyt39\\lib\\site-packages (from tensorboard<2.11,>=2.10->tensorflow==2.10.1) (2.32.3)\n",
      "Requirement already satisfied: tensorboard-data-server<0.7.0,>=0.6.0 in c:\\users\\dothe\\anaconda3\\envs\\pyt39\\lib\\site-packages (from tensorboard<2.11,>=2.10->tensorflow==2.10.1) (0.6.1)\n",
      "Requirement already satisfied: tensorboard-plugin-wit>=1.6.0 in c:\\users\\dothe\\anaconda3\\envs\\pyt39\\lib\\site-packages (from tensorboard<2.11,>=2.10->tensorflow==2.10.1) (1.8.1)\n",
      "Requirement already satisfied: werkzeug>=1.0.1 in c:\\users\\dothe\\anaconda3\\envs\\pyt39\\lib\\site-packages (from tensorboard<2.11,>=2.10->tensorflow==2.10.1) (2.3.7)\n",
      "Requirement already satisfied: cachetools<7.0,>=2.0.0 in c:\\users\\dothe\\anaconda3\\envs\\pyt39\\lib\\site-packages (from google-auth<3,>=1.6.3->tensorboard<2.11,>=2.10->tensorflow==2.10.1) (6.2.1)\n",
      "Requirement already satisfied: pyasn1-modules>=0.2.1 in c:\\users\\dothe\\anaconda3\\envs\\pyt39\\lib\\site-packages (from google-auth<3,>=1.6.3->tensorboard<2.11,>=2.10->tensorflow==2.10.1) (0.4.2)\n",
      "Requirement already satisfied: rsa<5,>=3.1.4 in c:\\users\\dothe\\anaconda3\\envs\\pyt39\\lib\\site-packages (from google-auth<3,>=1.6.3->tensorboard<2.11,>=2.10->tensorflow==2.10.1) (4.9.1)\n",
      "Requirement already satisfied: requests-oauthlib>=0.7.0 in c:\\users\\dothe\\anaconda3\\envs\\pyt39\\lib\\site-packages (from google-auth-oauthlib<0.5,>=0.4.1->tensorboard<2.11,>=2.10->tensorflow==2.10.1) (2.0.0)\n",
      "Requirement already satisfied: importlib-metadata>=4.4 in c:\\users\\dothe\\anaconda3\\envs\\pyt39\\lib\\site-packages (from markdown>=2.6.8->tensorboard<2.11,>=2.10->tensorflow==2.10.1) (6.8.0)\n",
      "Requirement already satisfied: charset-normalizer<4,>=2 in c:\\users\\dothe\\anaconda3\\envs\\pyt39\\lib\\site-packages (from requests<3,>=2.21.0->tensorboard<2.11,>=2.10->tensorflow==2.10.1) (3.3.2)\n",
      "Requirement already satisfied: idna<4,>=2.5 in c:\\users\\dothe\\anaconda3\\envs\\pyt39\\lib\\site-packages (from requests<3,>=2.21.0->tensorboard<2.11,>=2.10->tensorflow==2.10.1) (3.7)\n",
      "Requirement already satisfied: urllib3<3,>=1.21.1 in c:\\users\\dothe\\anaconda3\\envs\\pyt39\\lib\\site-packages (from requests<3,>=2.21.0->tensorboard<2.11,>=2.10->tensorflow==2.10.1) (2.2.2)\n",
      "Requirement already satisfied: certifi>=2017.4.17 in c:\\users\\dothe\\anaconda3\\envs\\pyt39\\lib\\site-packages (from requests<3,>=2.21.0->tensorboard<2.11,>=2.10->tensorflow==2.10.1) (2024.7.4)\n",
      "Requirement already satisfied: MarkupSafe>=2.1.1 in c:\\users\\dothe\\anaconda3\\envs\\pyt39\\lib\\site-packages (from werkzeug>=1.0.1->tensorboard<2.11,>=2.10->tensorflow==2.10.1) (2.1.3)\n",
      "Requirement already satisfied: zipp>=0.5 in c:\\users\\dothe\\anaconda3\\envs\\pyt39\\lib\\site-packages (from importlib-metadata>=4.4->markdown>=2.6.8->tensorboard<2.11,>=2.10->tensorflow==2.10.1) (3.17.0)\n",
      "Requirement already satisfied: pyasn1<0.7.0,>=0.6.1 in c:\\users\\dothe\\anaconda3\\envs\\pyt39\\lib\\site-packages (from pyasn1-modules>=0.2.1->google-auth<3,>=1.6.3->tensorboard<2.11,>=2.10->tensorflow==2.10.1) (0.6.1)\n",
      "Requirement already satisfied: oauthlib>=3.0.0 in c:\\users\\dothe\\anaconda3\\envs\\pyt39\\lib\\site-packages (from requests-oauthlib>=0.7.0->google-auth-oauthlib<0.5,>=0.4.1->tensorboard<2.11,>=2.10->tensorflow==2.10.1) (3.3.1)\n"
     ]
    }
   ],
   "source": [
    "#tensorflow 라이브러리 설치하기\n",
    "!pip install \"tensorflow==2.10.1\""
   ]
  },
  {
   "cell_type": "code",
   "execution_count": 4,
   "id": "9e1f5a75-e3df-4c0a-bdf7-8e9e86660054",
   "metadata": {},
   "outputs": [
    {
     "name": "stdout",
     "output_type": "stream",
     "text": [
      "Downloading data from https://storage.googleapis.com/tensorflow/tf-keras-datasets/mnist.npz\n",
      "11490434/11490434 [==============================] - 1s 0us/step\n",
      "변경 전= (60000, 28, 28)\n",
      "변경 후= (60000, 784)\n"
     ]
    }
   ],
   "source": [
    "#tensorflow에서 제공하는 데이터세트 mnist 불러오기\n",
    "from tensorflow.keras.datasets.mnist import load_data\n",
    "\n",
    "#load_data로 데이터 할당하기\n",
    "(x_train, y_train), (x_test, y_test) = load_data()\n",
    "\n",
    "#손 글씨 데이터는 이미지라 3차원 행렬\n",
    "print(\"변경 전=\", x_train.shape)\n",
    "\n",
    "#3차원 행렬을 2차원으로 변경하기\n",
    "X_train = x_train.reshape(-1, 784)\n",
    "X_test = x_test.reshape(-1, 784)\n",
    "\n",
    "#변경 결과 확인하기\n",
    "print(\"변경 후=\", X_train.shape)"
   ]
  },
  {
   "cell_type": "markdown",
   "id": "af00674a-6f8a-4794-9dc8-a07ac17b8400",
   "metadata": {},
   "source": [
    "(2) 의사결정나무 모델링하기"
   ]
  },
  {
   "cell_type": "code",
   "execution_count": 6,
   "id": "7b671b5e-5711-4725-9a09-5e83bbbd6b02",
   "metadata": {},
   "outputs": [],
   "source": [
    "#필요 라이브러리 불러오기(의사결정나무, 랜덤포레스트)\n",
    "from sklearn.tree import DecisionTreeClassifier\n",
    "from sklearn.ensemble import RandomForestClassifier\n",
    "\n",
    "#의사결정나무 학습하기\n",
    "dct = DecisionTreeClassifier(random_state=0)\n",
    "dct.fit(X_train, y_train)\n",
    "\n",
    "#의사결정나무 결과 확인하기\n",
    "acc_train_dct = dct.score(X_train, y_train)\n",
    "acc_test_dct = dct.score(X_test, y_test)"
   ]
  },
  {
   "cell_type": "markdown",
   "id": "eebe44cd-721b-4511-b65f-7a09f60f4018",
   "metadata": {},
   "source": [
    "(3) 랜덤 포레스트 모델링 및 결과 비교하기"
   ]
  },
  {
   "cell_type": "code",
   "execution_count": 8,
   "id": "641c6140-56f2-4f70-a044-6d0f48d3bec2",
   "metadata": {},
   "outputs": [
    {
     "name": "stdout",
     "output_type": "stream",
     "text": [
      "의사결정나무 : train_acc = 1.0, text_acc = 0.878 \n",
      "랜덤 포레스트 : train_acc = 1.0, text_acc = 0.971 \n"
     ]
    }
   ],
   "source": [
    "#랜덤 포레스트 학습하기\n",
    "rfc = RandomForestClassifier(random_state=0)\n",
    "rfc.fit(X_train, y_train)\n",
    "\n",
    "#랜덤 포레스트 결과보기\n",
    "acc_train_rfc = rfc.score(X_train, y_train)\n",
    "acc_test_rfc = rfc.score(X_test, y_test)\n",
    "\n",
    "#학습 결과 수치로 출력하기\n",
    "print(f\"\"\"의사결정나무 : train_acc = {round(acc_train_dct,3)}, text_acc = {round(acc_test_dct, 3)} \"\"\")\n",
    "print(f\"\"\"랜덤 포레스트 : train_acc = {round(acc_train_rfc,3)}, text_acc = {round(acc_test_rfc, 3)} \"\"\")"
   ]
  },
  {
   "cell_type": "code",
   "execution_count": 12,
   "id": "71650c11-c639-4e14-8686-939572ad7ae3",
   "metadata": {},
   "outputs": [
    {
     "data": {
      "image/png": "[encoded data removed]",
      "text/plain": [
       "<Figure size 640x480 with 1 Axes>"
      ]
     },
     "metadata": {},
     "output_type": "display_data"
    }
   ],
   "source": [
    "#랜덤 포레스트 결과를 토대로 비교 그래프 그리기\n",
    "import matplotlib.pyplot as plt\n",
    "\n",
    "#x 축 정의하기\n",
    "acc_list_x = ['dct_train', 'dct_test', 'rfc_train', 'rfc_test']\n",
    "\n",
    "#y 축 정의하기\n",
    "acc_list_y = [acc_train_dct, acc_test_dct, acc_train_rfc, acc_test_rfc]\n",
    "\n",
    "# 막대 그래프 차트 색 정의하기\n",
    "colors = ['orange', 'orange', 'blue', 'blue']\n",
    "\n",
    "# 막대 그래프 설정하기\n",
    "plt.bar(acc_list_x, acc_list_y, color=colors)\n",
    "\n",
    "# 화면 출력하기\n",
    "plt.show()"
   ]
  },
  {
   "cell_type": "markdown",
   "id": "8d84d096-312d-4e18-9ac8-57f517f47bea",
   "metadata": {},
   "source": [
    "3) 랜덤 포레스트와 의사결정나무 비교하기"
   ]
  },
  {
   "cell_type": "code",
   "execution_count": null,
   "id": "4ddef090-093c-4e10-917b-5baf079f1442",
   "metadata": {},
   "outputs": [],
   "source": [
    "랜덤 포레스트 기반 알고리즘의 의사결정나무 기반인지 확인해보자."
   ]
  },
  {
   "cell_type": "code",
   "execution_count": 14,
   "id": "047236f8-9da4-455a-adf3-c67a30ffe969",
   "metadata": {},
   "outputs": [
    {
     "name": "stdout",
     "output_type": "stream",
     "text": [
      "의사결정나무 : train_acc = 1.0, test_acc=0.878\n",
      "랜덤포레스트 : train_acc = 1.0, test_acc=0.877\n"
     ]
    }
   ],
   "source": [
    "#의사결정나무 결과와 동일하게 랜덤 포레스트 구성하기\n",
    "rft= RandomForestClassifier(random_state=0, \n",
    "                            n_estimators = 1, #나무 개수를 1개로 설정하기\n",
    "                            max_features = None, #max_feature는 의사결정나무 기준으로 변경하기\n",
    "                            bootstrap=False, #부트스트랩 샘플링은 off 하기\n",
    "                           )\n",
    "\n",
    "rft.fit(X_train, y_train)\n",
    "\n",
    "#학습 결과 저장하기\n",
    "acc_train_rfc = rft.score(X_train, y_train)\n",
    "acc_test_rfc = rft.score(X_test, y_test)\n",
    "acc_train_act = dct.score(X_train, y_train)\n",
    "acc_test_dct = dct.score(X_test, y_test)\n",
    "\n",
    "#의사결정나무 & 랜덤포레스트가 유사한 결과를 출력하는지 비교하기\n",
    "print(f\"\"\"의사결정나무 : train_acc = {round(acc_train_dct,3)}, test_acc={round(acc_test_dct, 3)}\"\"\")\n",
    "print(f\"\"\"랜덤포레스트 : train_acc = {round(acc_train_rfc,3)}, test_acc={round(acc_test_rfc, 3)}\"\"\")"
   ]
  },
  {
   "cell_type": "code",
   "execution_count": null,
   "id": "7b069d43-73c5-4103-a4a1-78b62a2a6238",
   "metadata": {},
   "outputs": [],
   "source": []
  }
 ],
 "metadata": {
  "kernelspec": {
   "display_name": "Python 3 (ipykernel)",
   "language": "python",
   "name": "python3"
  },
  "language_info": {
   "codemirror_mode": {
    "name": "ipython",
    "version": 3
   },
   "file_extension": ".py",
   "mimetype": "text/x-python",
   "name": "python",
   "nbconvert_exporter": "python",
   "pygments_lexer": "ipython3",
   "version": "3.9.18"
  }
 },
 "nbformat": 4,
 "nbformat_minor": 5
}
