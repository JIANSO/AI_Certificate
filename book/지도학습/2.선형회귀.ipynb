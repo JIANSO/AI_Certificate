{
 "cells": [
  {
   "cell_type": "markdown",
   "id": "debd502a-fc9c-4538-9e3a-0b4b9d98cc1c",
   "metadata": {},
   "source": [
    "LinearRegression 클래스 활용.\n",
    "fit_intercept(절편값의 계산 여부 지정) 하이퍼 파라미터를 입력 받음.\n",
    "결과값으로, coef_(학습된 모델 특성의 가중치 추정값)과 intercept_(학습된 모델의 절편 추정값을) 가짐."
   ]
  },
  {
   "cell_type": "markdown",
   "id": "9283807b-aa80-4cab-a472-5325964ea6a6",
   "metadata": {},
   "source": [
    "(1) 데이터 구성하기"
   ]
  },
  {
   "cell_type": "code",
   "execution_count": null,
   "id": "3ba232e0-ff99-44ba-a8ea-cec34ce1564f",
   "metadata": {},
   "outputs": [],
   "source": [
    "데이터는 y = 4x + 7 이고, x에 입력할 데이터는 1~10으로 한다."
   ]
  },
  {
   "cell_type": "code",
   "execution_count": 1,
   "id": "647e6493-1f47-4c11-92ad-7a34b588fd1b",
   "metadata": {},
   "outputs": [
    {
     "name": "stdout",
     "output_type": "stream",
     "text": [
      "x :  [1, 2, 3, 4, 5, 6, 7, 8, 9, 10]\n",
      "y :  [11, 15, 19, 23, 27, 31, 35, 39, 43, 47]\n"
     ]
    }
   ],
   "source": [
    "import numpy as np\n",
    "import matplotlib.pyplot as plt\n",
    "\n",
    "np.random.seed(2023)\n",
    "\n",
    "#x는 1~10, y는 4x+7인 학습 데이터 생성하기\n",
    "x = []\n",
    "y = []\n",
    "for i in range(1,11) :\n",
    "    x.append(i)\n",
    "    y.append(4*i+7)\n",
    "\n",
    "#데이터 확인하기\n",
    "print('x : ', x)\n",
    "print('y : ', y)"
   ]
  },
  {
   "cell_type": "markdown",
   "id": "795f3649-4f4b-4c7e-b2bb-d16b60da864a",
   "metadata": {},
   "source": [
    "(2) 선형 회귀 학습하기"
   ]
  },
  {
   "cell_type": "code",
   "execution_count": 2,
   "id": "9e77e813-cba5-4f47-9b32-f1c9591bd0a4",
   "metadata": {},
   "outputs": [
    {
     "name": "stdout",
     "output_type": "stream",
     "text": [
      "학습 데이터 확인\n",
      "x : [[ 1]\n",
      " [ 2]\n",
      " [ 3]\n",
      " [ 4]\n",
      " [ 5]\n",
      " [ 6]\n",
      " [ 7]\n",
      " [ 8]\n",
      " [ 9]\n",
      " [10]]\n",
      "x.shape : (10, 1)\n"
     ]
    }
   ],
   "source": [
    "from sklearn.linear_model import LinearRegression\n",
    "\n",
    "reg = LinearRegression()\n",
    "\n",
    "#학습을 위해 1행 10열 구성 데이터를 10행 1열로 변경하기\n",
    "x = np.array(x).reshape(-1,1)\n",
    "\n",
    "#데이터 확인하기\n",
    "print(\"학습 데이터 확인\")\n",
    "print('x :', x)\n",
    "print('x.shape :', x.shape)"
   ]
  },
  {
   "cell_type": "code",
   "execution_count": 3,
   "id": "b0aa6b6a-0ebb-4aac-a625-30c5ea2a5938",
   "metadata": {},
   "outputs": [
    {
     "data": {
      "text/html": [
       "<style>#sk-container-id-1 {\n",
       "  /* Definition of color scheme common for light and dark mode */\n",
       "  --sklearn-color-text: #000;\n",
       "  --sklearn-color-text-muted: #666;\n",
       "  --sklearn-color-line: gray;\n",
       "  /* Definition of color scheme for unfitted estimators */\n",
       "  --sklearn-color-unfitted-level-0: #fff5e6;\n",
       "  --sklearn-color-unfitted-level-1: #f6e4d2;\n",
       "  --sklearn-color-unfitted-level-2: #ffe0b3;\n",
       "  --sklearn-color-unfitted-level-3: chocolate;\n",
       "  /* Definition of color scheme for fitted estimators */\n",
       "  --sklearn-color-fitted-level-0: #f0f8ff;\n",
       "  --sklearn-color-fitted-level-1: #d4ebff;\n",
       "  --sklearn-color-fitted-level-2: #b3dbfd;\n",
       "  --sklearn-color-fitted-level-3: cornflowerblue;\n",
       "\n",
       "  /* Specific color for light theme */\n",
       "  --sklearn-color-text-on-default-background: var(--sg-text-color, var(--theme-code-foreground, var(--jp-content-font-color1, black)));\n",
       "  --sklearn-color-background: var(--sg-background-color, var(--theme-background, var(--jp-layout-color0, white)));\n",
       "  --sklearn-color-border-box: var(--sg-text-color, var(--theme-code-foreground, var(--jp-content-font-color1, black)));\n",
       "  --sklearn-color-icon: #696969;\n",
       "\n",
       "  @media (prefers-color-scheme: dark) {\n",
       "    /* Redefinition of color scheme for dark theme */\n",
       "    --sklearn-color-text-on-default-background: var(--sg-text-color, var(--theme-code-foreground, var(--jp-content-font-color1, white)));\n",
       "    --sklearn-color-background: var(--sg-background-color, var(--theme-background, var(--jp-layout-color0, #111)));\n",
       "    --sklearn-color-border-box: var(--sg-text-color, var(--theme-code-foreground, var(--jp-content-font-color1, white)));\n",
       "    --sklearn-color-icon: #878787;\n",
       "  }\n",
       "}\n",
       "\n",
       "#sk-container-id-1 {\n",
       "  color: var(--sklearn-color-text);\n",
       "}\n",
       "\n",
       "#sk-container-id-1 pre {\n",
       "  padding: 0;\n",
       "}\n",
       "\n",
       "#sk-container-id-1 input.sk-hidden--visually {\n",
       "  border: 0;\n",
       "  clip: rect(1px 1px 1px 1px);\n",
       "  clip: rect(1px, 1px, 1px, 1px);\n",
       "  height: 1px;\n",
       "  margin: -1px;\n",
       "  overflow: hidden;\n",
       "  padding: 0;\n",
       "  position: absolute;\n",
       "  width: 1px;\n",
       "}\n",
       "\n",
       "#sk-container-id-1 div.sk-dashed-wrapped {\n",
       "  border: 1px dashed var(--sklearn-color-line);\n",
       "  margin: 0 0.4em 0.5em 0.4em;\n",
       "  box-sizing: border-box;\n",
       "  padding-bottom: 0.4em;\n",
       "  background-color: var(--sklearn-color-background);\n",
       "}\n",
       "\n",
       "#sk-container-id-1 div.sk-container {\n",
       "  /* jupyter's `normalize.less` sets `[hidden] { display: none; }`\n",
       "     but bootstrap.min.css set `[hidden] { display: none !important; }`\n",
       "     so we also need the `!important` here to be able to override the\n",
       "     default hidden behavior on the sphinx rendered scikit-learn.org.\n",
       "     See: https://github.com/scikit-learn/scikit-learn/issues/21755 */\n",
       "  display: inline-block !important;\n",
       "  position: relative;\n",
       "}\n",
       "\n",
       "#sk-container-id-1 div.sk-text-repr-fallback {\n",
       "  display: none;\n",
       "}\n",
       "\n",
       "div.sk-parallel-item,\n",
       "div.sk-serial,\n",
       "div.sk-item {\n",
       "  /* draw centered vertical line to link estimators */\n",
       "  background-image: linear-gradient(var(--sklearn-color-text-on-default-background), var(--sklearn-color-text-on-default-background));\n",
       "  background-size: 2px 100%;\n",
       "  background-repeat: no-repeat;\n",
       "  background-position: center center;\n",
       "}\n",
       "\n",
       "/* Parallel-specific style estimator block */\n",
       "\n",
       "#sk-container-id-1 div.sk-parallel-item::after {\n",
       "  content: \"\";\n",
       "  width: 100%;\n",
       "  border-bottom: 2px solid var(--sklearn-color-text-on-default-background);\n",
       "  flex-grow: 1;\n",
       "}\n",
       "\n",
       "#sk-container-id-1 div.sk-parallel {\n",
       "  display: flex;\n",
       "  align-items: stretch;\n",
       "  justify-content: center;\n",
       "  background-color: var(--sklearn-color-background);\n",
       "  position: relative;\n",
       "}\n",
       "\n",
       "#sk-container-id-1 div.sk-parallel-item {\n",
       "  display: flex;\n",
       "  flex-direction: column;\n",
       "}\n",
       "\n",
       "#sk-container-id-1 div.sk-parallel-item:first-child::after {\n",
       "  align-self: flex-end;\n",
       "  width: 50%;\n",
       "}\n",
       "\n",
       "#sk-container-id-1 div.sk-parallel-item:last-child::after {\n",
       "  align-self: flex-start;\n",
       "  width: 50%;\n",
       "}\n",
       "\n",
       "#sk-container-id-1 div.sk-parallel-item:only-child::after {\n",
       "  width: 0;\n",
       "}\n",
       "\n",
       "/* Serial-specific style estimator block */\n",
       "\n",
       "#sk-container-id-1 div.sk-serial {\n",
       "  display: flex;\n",
       "  flex-direction: column;\n",
       "  align-items: center;\n",
       "  background-color: var(--sklearn-color-background);\n",
       "  padding-right: 1em;\n",
       "  padding-left: 1em;\n",
       "}\n",
       "\n",
       "\n",
       "/* Toggleable style: style used for estimator/Pipeline/ColumnTransformer box that is\n",
       "clickable and can be expanded/collapsed.\n",
       "- Pipeline and ColumnTransformer use this feature and define the default style\n",
       "- Estimators will overwrite some part of the style using the `sk-estimator` class\n",
       "*/\n",
       "\n",
       "/* Pipeline and ColumnTransformer style (default) */\n",
       "\n",
       "#sk-container-id-1 div.sk-toggleable {\n",
       "  /* Default theme specific background. It is overwritten whether we have a\n",
       "  specific estimator or a Pipeline/ColumnTransformer */\n",
       "  background-color: var(--sklearn-color-background);\n",
       "}\n",
       "\n",
       "/* Toggleable label */\n",
       "#sk-container-id-1 label.sk-toggleable__label {\n",
       "  cursor: pointer;\n",
       "  display: flex;\n",
       "  width: 100%;\n",
       "  margin-bottom: 0;\n",
       "  padding: 0.5em;\n",
       "  box-sizing: border-box;\n",
       "  text-align: center;\n",
       "  align-items: start;\n",
       "  justify-content: space-between;\n",
       "  gap: 0.5em;\n",
       "}\n",
       "\n",
       "#sk-container-id-1 label.sk-toggleable__label .caption {\n",
       "  font-size: 0.6rem;\n",
       "  font-weight: lighter;\n",
       "  color: var(--sklearn-color-text-muted);\n",
       "}\n",
       "\n",
       "#sk-container-id-1 label.sk-toggleable__label-arrow:before {\n",
       "  /* Arrow on the left of the label */\n",
       "  content: \"▸\";\n",
       "  float: left;\n",
       "  margin-right: 0.25em;\n",
       "  color: var(--sklearn-color-icon);\n",
       "}\n",
       "\n",
       "#sk-container-id-1 label.sk-toggleable__label-arrow:hover:before {\n",
       "  color: var(--sklearn-color-text);\n",
       "}\n",
       "\n",
       "/* Toggleable content - dropdown */\n",
       "\n",
       "#sk-container-id-1 div.sk-toggleable__content {\n",
       "  max-height: 0;\n",
       "  max-width: 0;\n",
       "  overflow: hidden;\n",
       "  text-align: left;\n",
       "  /* unfitted */\n",
       "  background-color: var(--sklearn-color-unfitted-level-0);\n",
       "}\n",
       "\n",
       "#sk-container-id-1 div.sk-toggleable__content.fitted {\n",
       "  /* fitted */\n",
       "  background-color: var(--sklearn-color-fitted-level-0);\n",
       "}\n",
       "\n",
       "#sk-container-id-1 div.sk-toggleable__content pre {\n",
       "  margin: 0.2em;\n",
       "  border-radius: 0.25em;\n",
       "  color: var(--sklearn-color-text);\n",
       "  /* unfitted */\n",
       "  background-color: var(--sklearn-color-unfitted-level-0);\n",
       "}\n",
       "\n",
       "#sk-container-id-1 div.sk-toggleable__content.fitted pre {\n",
       "  /* unfitted */\n",
       "  background-color: var(--sklearn-color-fitted-level-0);\n",
       "}\n",
       "\n",
       "#sk-container-id-1 input.sk-toggleable__control:checked~div.sk-toggleable__content {\n",
       "  /* Expand drop-down */\n",
       "  max-height: 200px;\n",
       "  max-width: 100%;\n",
       "  overflow: auto;\n",
       "}\n",
       "\n",
       "#sk-container-id-1 input.sk-toggleable__control:checked~label.sk-toggleable__label-arrow:before {\n",
       "  content: \"▾\";\n",
       "}\n",
       "\n",
       "/* Pipeline/ColumnTransformer-specific style */\n",
       "\n",
       "#sk-container-id-1 div.sk-label input.sk-toggleable__control:checked~label.sk-toggleable__label {\n",
       "  color: var(--sklearn-color-text);\n",
       "  background-color: var(--sklearn-color-unfitted-level-2);\n",
       "}\n",
       "\n",
       "#sk-container-id-1 div.sk-label.fitted input.sk-toggleable__control:checked~label.sk-toggleable__label {\n",
       "  background-color: var(--sklearn-color-fitted-level-2);\n",
       "}\n",
       "\n",
       "/* Estimator-specific style */\n",
       "\n",
       "/* Colorize estimator box */\n",
       "#sk-container-id-1 div.sk-estimator input.sk-toggleable__control:checked~label.sk-toggleable__label {\n",
       "  /* unfitted */\n",
       "  background-color: var(--sklearn-color-unfitted-level-2);\n",
       "}\n",
       "\n",
       "#sk-container-id-1 div.sk-estimator.fitted input.sk-toggleable__control:checked~label.sk-toggleable__label {\n",
       "  /* fitted */\n",
       "  background-color: var(--sklearn-color-fitted-level-2);\n",
       "}\n",
       "\n",
       "#sk-container-id-1 div.sk-label label.sk-toggleable__label,\n",
       "#sk-container-id-1 div.sk-label label {\n",
       "  /* The background is the default theme color */\n",
       "  color: var(--sklearn-color-text-on-default-background);\n",
       "}\n",
       "\n",
       "/* On hover, darken the color of the background */\n",
       "#sk-container-id-1 div.sk-label:hover label.sk-toggleable__label {\n",
       "  color: var(--sklearn-color-text);\n",
       "  background-color: var(--sklearn-color-unfitted-level-2);\n",
       "}\n",
       "\n",
       "/* Label box, darken color on hover, fitted */\n",
       "#sk-container-id-1 div.sk-label.fitted:hover label.sk-toggleable__label.fitted {\n",
       "  color: var(--sklearn-color-text);\n",
       "  background-color: var(--sklearn-color-fitted-level-2);\n",
       "}\n",
       "\n",
       "/* Estimator label */\n",
       "\n",
       "#sk-container-id-1 div.sk-label label {\n",
       "  font-family: monospace;\n",
       "  font-weight: bold;\n",
       "  display: inline-block;\n",
       "  line-height: 1.2em;\n",
       "}\n",
       "\n",
       "#sk-container-id-1 div.sk-label-container {\n",
       "  text-align: center;\n",
       "}\n",
       "\n",
       "/* Estimator-specific */\n",
       "#sk-container-id-1 div.sk-estimator {\n",
       "  font-family: monospace;\n",
       "  border: 1px dotted var(--sklearn-color-border-box);\n",
       "  border-radius: 0.25em;\n",
       "  box-sizing: border-box;\n",
       "  margin-bottom: 0.5em;\n",
       "  /* unfitted */\n",
       "  background-color: var(--sklearn-color-unfitted-level-0);\n",
       "}\n",
       "\n",
       "#sk-container-id-1 div.sk-estimator.fitted {\n",
       "  /* fitted */\n",
       "  background-color: var(--sklearn-color-fitted-level-0);\n",
       "}\n",
       "\n",
       "/* on hover */\n",
       "#sk-container-id-1 div.sk-estimator:hover {\n",
       "  /* unfitted */\n",
       "  background-color: var(--sklearn-color-unfitted-level-2);\n",
       "}\n",
       "\n",
       "#sk-container-id-1 div.sk-estimator.fitted:hover {\n",
       "  /* fitted */\n",
       "  background-color: var(--sklearn-color-fitted-level-2);\n",
       "}\n",
       "\n",
       "/* Specification for estimator info (e.g. \"i\" and \"?\") */\n",
       "\n",
       "/* Common style for \"i\" and \"?\" */\n",
       "\n",
       ".sk-estimator-doc-link,\n",
       "a:link.sk-estimator-doc-link,\n",
       "a:visited.sk-estimator-doc-link {\n",
       "  float: right;\n",
       "  font-size: smaller;\n",
       "  line-height: 1em;\n",
       "  font-family: monospace;\n",
       "  background-color: var(--sklearn-color-background);\n",
       "  border-radius: 1em;\n",
       "  height: 1em;\n",
       "  width: 1em;\n",
       "  text-decoration: none !important;\n",
       "  margin-left: 0.5em;\n",
       "  text-align: center;\n",
       "  /* unfitted */\n",
       "  border: var(--sklearn-color-unfitted-level-1) 1pt solid;\n",
       "  color: var(--sklearn-color-unfitted-level-1);\n",
       "}\n",
       "\n",
       ".sk-estimator-doc-link.fitted,\n",
       "a:link.sk-estimator-doc-link.fitted,\n",
       "a:visited.sk-estimator-doc-link.fitted {\n",
       "  /* fitted */\n",
       "  border: var(--sklearn-color-fitted-level-1) 1pt solid;\n",
       "  color: var(--sklearn-color-fitted-level-1);\n",
       "}\n",
       "\n",
       "/* On hover */\n",
       "div.sk-estimator:hover .sk-estimator-doc-link:hover,\n",
       ".sk-estimator-doc-link:hover,\n",
       "div.sk-label-container:hover .sk-estimator-doc-link:hover,\n",
       ".sk-estimator-doc-link:hover {\n",
       "  /* unfitted */\n",
       "  background-color: var(--sklearn-color-unfitted-level-3);\n",
       "  color: var(--sklearn-color-background);\n",
       "  text-decoration: none;\n",
       "}\n",
       "\n",
       "div.sk-estimator.fitted:hover .sk-estimator-doc-link.fitted:hover,\n",
       ".sk-estimator-doc-link.fitted:hover,\n",
       "div.sk-label-container:hover .sk-estimator-doc-link.fitted:hover,\n",
       ".sk-estimator-doc-link.fitted:hover {\n",
       "  /* fitted */\n",
       "  background-color: var(--sklearn-color-fitted-level-3);\n",
       "  color: var(--sklearn-color-background);\n",
       "  text-decoration: none;\n",
       "}\n",
       "\n",
       "/* Span, style for the box shown on hovering the info icon */\n",
       ".sk-estimator-doc-link span {\n",
       "  display: none;\n",
       "  z-index: 9999;\n",
       "  position: relative;\n",
       "  font-weight: normal;\n",
       "  right: .2ex;\n",
       "  padding: .5ex;\n",
       "  margin: .5ex;\n",
       "  width: min-content;\n",
       "  min-width: 20ex;\n",
       "  max-width: 50ex;\n",
       "  color: var(--sklearn-color-text);\n",
       "  box-shadow: 2pt 2pt 4pt #999;\n",
       "  /* unfitted */\n",
       "  background: var(--sklearn-color-unfitted-level-0);\n",
       "  border: .5pt solid var(--sklearn-color-unfitted-level-3);\n",
       "}\n",
       "\n",
       ".sk-estimator-doc-link.fitted span {\n",
       "  /* fitted */\n",
       "  background: var(--sklearn-color-fitted-level-0);\n",
       "  border: var(--sklearn-color-fitted-level-3);\n",
       "}\n",
       "\n",
       ".sk-estimator-doc-link:hover span {\n",
       "  display: block;\n",
       "}\n",
       "\n",
       "/* \"?\"-specific style due to the `<a>` HTML tag */\n",
       "\n",
       "#sk-container-id-1 a.estimator_doc_link {\n",
       "  float: right;\n",
       "  font-size: 1rem;\n",
       "  line-height: 1em;\n",
       "  font-family: monospace;\n",
       "  background-color: var(--sklearn-color-background);\n",
       "  border-radius: 1rem;\n",
       "  height: 1rem;\n",
       "  width: 1rem;\n",
       "  text-decoration: none;\n",
       "  /* unfitted */\n",
       "  color: var(--sklearn-color-unfitted-level-1);\n",
       "  border: var(--sklearn-color-unfitted-level-1) 1pt solid;\n",
       "}\n",
       "\n",
       "#sk-container-id-1 a.estimator_doc_link.fitted {\n",
       "  /* fitted */\n",
       "  border: var(--sklearn-color-fitted-level-1) 1pt solid;\n",
       "  color: var(--sklearn-color-fitted-level-1);\n",
       "}\n",
       "\n",
       "/* On hover */\n",
       "#sk-container-id-1 a.estimator_doc_link:hover {\n",
       "  /* unfitted */\n",
       "  background-color: var(--sklearn-color-unfitted-level-3);\n",
       "  color: var(--sklearn-color-background);\n",
       "  text-decoration: none;\n",
       "}\n",
       "\n",
       "#sk-container-id-1 a.estimator_doc_link.fitted:hover {\n",
       "  /* fitted */\n",
       "  background-color: var(--sklearn-color-fitted-level-3);\n",
       "}\n",
       "</style><div id=\"sk-container-id-1\" class=\"sk-top-container\"><div class=\"sk-text-repr-fallback\"><pre>LinearRegression()</pre><b>In a Jupyter environment, please rerun this cell to show the HTML representation or trust the notebook. <br />On GitHub, the HTML representation is unable to render, please try loading this page with nbviewer.org.</b></div><div class=\"sk-container\" hidden><div class=\"sk-item\"><div class=\"sk-estimator fitted sk-toggleable\"><input class=\"sk-toggleable__control sk-hidden--visually\" id=\"sk-estimator-id-1\" type=\"checkbox\" checked><label for=\"sk-estimator-id-1\" class=\"sk-toggleable__label fitted sk-toggleable__label-arrow\"><div><div>LinearRegression</div></div><div><a class=\"sk-estimator-doc-link fitted\" rel=\"noreferrer\" target=\"_blank\" href=\"https://scikit-learn.org/1.6/modules/generated/sklearn.linear_model.LinearRegression.html\">?<span>Documentation for LinearRegression</span></a><span class=\"sk-estimator-doc-link fitted\">i<span>Fitted</span></span></div></label><div class=\"sk-toggleable__content fitted\"><pre>LinearRegression()</pre></div> </div></div></div></div>"
      ],
      "text/plain": [
       "LinearRegression()"
      ]
     },
     "execution_count": 3,
     "metadata": {},
     "output_type": "execute_result"
    }
   ],
   "source": [
    "#학습하기\n",
    "reg.fit(x,y)"
   ]
  },
  {
   "cell_type": "code",
   "execution_count": 4,
   "id": "388e0d87-f0f8-4e59-98ce-5abd049f0068",
   "metadata": {},
   "outputs": [
    {
     "name": "stdout",
     "output_type": "stream",
     "text": [
      "기울기 및 절편 확인 coef = [4.], intercept = 6.9999999999999964 \n"
     ]
    }
   ],
   "source": [
    "#산식 추정을 위한 기울기(coef) 및 절편(intercept) 확인하기\n",
    "print(f'''기울기 및 절편 확인 coef = {reg.coef_}, intercept = {reg.intercept_} ''')"
   ]
  },
  {
   "cell_type": "code",
   "execution_count": 7,
   "id": "b81b5ec3-4124-4c53-b0b3-dd36c2df44e1",
   "metadata": {},
   "outputs": [
    {
     "name": "stdout",
     "output_type": "stream",
     "text": [
      "[[11.]\n",
      " [15.]\n",
      " [19.]\n",
      " [23.]\n",
      " [27.]\n",
      " [31.]\n",
      " [35.]\n",
      " [39.]\n",
      " [43.]\n",
      " [47.]]\n"
     ]
    }
   ],
   "source": [
    "coef_intercept = x * reg.coef_[0] + reg.intercept_\n",
    "print(coef_intercept)"
   ]
  },
  {
   "cell_type": "markdown",
   "id": "25a8706c-3f01-421a-85e4-ff65e7c6e208",
   "metadata": {},
   "source": [
    "(3) 결과 비교를 위한 그래프 그리기"
   ]
  },
  {
   "cell_type": "code",
   "execution_count": 12,
   "id": "75f5e72b-f2be-4423-a41f-9c07fa876464",
   "metadata": {},
   "outputs": [
    {
     "name": "stderr",
     "output_type": "stream",
     "text": [
      "C:\\Users\\dothe\\AppData\\Local\\Temp\\ipykernel_34020\\3763357586.py:8: DeprecationWarning: Conversion of an array with ndim > 0 to a scalar is deprecated, and will error in future. Ensure you extract a single element from your array before performing this operation. (Deprecated NumPy 1.25.)\n",
      "  plt.text(7, 20, 'coef_ = %.0f'%reg.coef_, size=12)\n"
     ]
    },
    {
     "data": {
      "image/png": "[encoded data removed]",
      "text/plain": [
       "<Figure size 640x480 with 1 Axes>"
      ]
     },
     "metadata": {},
     "output_type": "display_data"
    }
   ],
   "source": [
    "#scatter plot 그래프 그리기\n",
    "plt.scatter(x,y,color='r', s=20)\n",
    "\n",
    "#선 그래프 그리기\n",
    "plt.plot(x, coef_intercept, color='orange')\n",
    "\n",
    "#coef 값 그래프 내에 텍스트 삽입하기\n",
    "plt.text(7, 20, 'coef_ = %.0f'%reg.coef_, size=12)\n",
    "\n",
    "#intercept 값 그래프 내에 텍스트 삽입하기\n",
    "plt.text(7, 18, 'intercept_ = %.0f'%reg.intercept_, size=12)\n",
    "\n",
    "#x축(가로) label 설정하기\n",
    "plt.xlabel('x')\n",
    "\n",
    "#y축(세로) label 설정하기\n",
    "plt.ylabel('y')\n",
    "plt.show()"
   ]
  },
  {
   "cell_type": "markdown",
   "id": "a2f96a86-1589-4f58-8d2a-a0497599b663",
   "metadata": {},
   "source": [
    "머신러닝은 어떤 방법으로 4와 7의 값이 정답인지 확인할 수 있을까?\n",
    "가장 확실한 방법은 모든 숫자를 대입해보는 것이다.\n",
    "위의 예시에서는 사용한 변수가 1개이므로 대입을 많이 할 필요가 없지만\n",
    "여러개의 Feature가 존재한다면 연산이 기하급수적으로 늘어난다.\n",
    "이럴 때 빠르게 최적의 값을 찾아가는 개념이 Gradient Descent 알고리즘이다."
   ]
  },
  {
   "cell_type": "markdown",
   "id": "17b43b10-1ea8-41a7-a1f7-b8aaa8c1d94d",
   "metadata": {},
   "source": [
    "3) 사례 기반 선형 회귀 모델링"
   ]
  },
  {
   "cell_type": "markdown",
   "id": "25d930a6-6607-46d7-9466-7ed357385c7a",
   "metadata": {},
   "source": [
    "데이터 출처\n",
    "\n",
    "https://www.data.go.kr/data/15007122/fileData.do\n",
    "# 2025.10.16 기준으로 전산망 에러"
   ]
  },
  {
   "cell_type": "markdown",
   "id": "ca372198-8b4b-4d70-84f3-f1dbf32634f2",
   "metadata": {},
   "source": [
    "건강 검진 데이터를 바탕으로 LDL 콜레스테롤 수치를 예측해보는 선형 회귀 모델.\n",
    "우선 간단한 가설로 치아 관련 문항은 콜레스테롤과 상관 없을 것이라는 가설을 세워서 실습을 진행하고 가중치 확인하기.\n",
    "모델링에 앞서 모델링을 위한 데이터 전처리하기."
   ]
  },
  {
   "cell_type": "markdown",
   "id": "cbf3ea27-9514-461a-b8ba-24bf4c1b3c75",
   "metadata": {},
   "source": [
    "(1) 데이터 전처리하기"
   ]
  },
  {
   "cell_type": "code",
   "execution_count": null,
   "id": "78d7143c-baf6-4340-b51d-0e6acd602584",
   "metadata": {},
   "outputs": [],
   "source": [
    "import pandas as pd\n",
    "\n",
    "df = pd.read_csv(\"국민건강보험공단_건강검진정보_20211229.csv\", encoding='cp949')\n",
    "\n",
    "#pandas display 옵션 조정을 통해 view 범위 확장하기\n",
    "pd.set_option('display.max_columns', None) #display 옵션을 통한 전체 열 확장\n",
    "\n",
    "#데이터 확인하기\n",
    "df.head(5)"
   ]
  },
  {
   "cell_type": "code",
   "execution_count": 14,
   "id": "f5a7f2c2-5948-4456-b815-31d35cea1cdc",
   "metadata": {},
   "outputs": [
    {
     "ename": "NameError",
     "evalue": "name 'df' is not defined",
     "output_type": "error",
     "traceback": [
      "\u001b[1;31m---------------------------------------------------------------------------\u001b[0m",
      "\u001b[1;31mNameError\u001b[0m                                 Traceback (most recent call last)",
      "Cell \u001b[1;32mIn[14], line 3\u001b[0m\n\u001b[0;32m      1\u001b[0m \u001b[38;5;66;03m#가설을 참고하여 일부 데이터 삭제하기\u001b[39;00m\n\u001b[0;32m      2\u001b[0m \u001b[38;5;66;03m#시력, 청력, 치아 관련 칼럼은 관계없다는 가정으로 열 제거하기\u001b[39;00m\n\u001b[1;32m----> 3\u001b[0m \u001b[43mdf\u001b[49m\u001b[38;5;241m.\u001b[39mdrop([\u001b[38;5;124m\"\u001b[39m\u001b[38;5;124m치아우식증유무\u001b[39m\u001b[38;5;124m\"\u001b[39m, \u001b[38;5;124m\"\u001b[39m\u001b[38;5;124m치석\u001b[39m\u001b[38;5;124m\"\u001b[39m, \u001b[38;5;124m\"\u001b[39m\u001b[38;5;124m시력(좌)\u001b[39m\u001b[38;5;124m\"\u001b[39m, \u001b[38;5;124m\"\u001b[39m\u001b[38;5;124m시력(우)\u001b[39m\u001b[38;5;124m\"\u001b[39m, \u001b[38;5;124m\"\u001b[39m\u001b[38;5;124m청력(좌)\u001b[39m\u001b[38;5;124m\"\u001b[39m, \u001b[38;5;124m\"\u001b[39m\u001b[38;5;124m청력(우)\u001b[39m\u001b[38;5;124m\"\u001b[39m, \u001b[38;5;124m\"\u001b[39m\u001b[38;5;124m구강검진 수검여부\u001b[39m\u001b[38;5;124m\"\u001b[39m],\n\u001b[0;32m      4\u001b[0m         axis\u001b[38;5;241m=\u001b[39m\u001b[38;5;241m1\u001b[39m, inplace\u001b[38;5;241m=\u001b[39m\u001b[38;5;28;01mTrue\u001b[39;00m\n\u001b[0;32m      5\u001b[0m          )\n\u001b[0;32m      7\u001b[0m \u001b[38;5;66;03m#기준년도 칼럼 확인하기(모두 2020 동일 값이므로, 기준년도 컬럼 삭제)\u001b[39;00m\n\u001b[0;32m      8\u001b[0m \u001b[38;5;28mprint\u001b[39m(\u001b[38;5;124m\"\u001b[39m\u001b[38;5;124m기준년도 칼럼 확인\u001b[39m\u001b[38;5;124m\"\u001b[39m)\n",
      "\u001b[1;31mNameError\u001b[0m: name 'df' is not defined"
     ]
    }
   ],
   "source": [
    "#가설을 참고하여 일부 데이터 삭제하기\n",
    "#시력, 청력, 치아 관련 칼럼은 관계없다는 가정으로 열 제거하기\n",
    "df.drop([\"치아우식증유무\", \"치석\", \"시력(좌)\", \"시력(우)\", \"청력(좌)\", \"청력(우)\", \"구강검진 수검여부\"],\n",
    "        axis=1, inplace=True)\n",
    "\n",
    "#기준년도 칼럼 확인하기(모두 2020 동일 값이므로, 기준년도 컬럼 삭제)\n",
    "print(\"기준년도 칼럼 확인\")\n",
    "df.기준년도.value_counts()"
   ]
  },
  {
   "cell_type": "code",
   "execution_count": null,
   "id": "0677b621-c45c-45a0-9acf-ad084e8fa05c",
   "metadata": {},
   "outputs": [],
   "source": [
    "#가입자 일련번호 컬럼 확인하기(모두 unique한 값으로 확인되어 가입자 일련번호 컬럼 삭제)\n",
    "print(\"가입자 일련번호 칼럼 확인\")\n",
    "df[\"가입자 일련번호\"].value_counts()"
   ]
  },
  {
   "cell_type": "code",
   "execution_count": null,
   "id": "d31388e1-4ba3-40cd-853e-b6a32ad04657",
   "metadata": {},
   "outputs": [],
   "source": [
    "#성별코드 칼럼 확인하기\n",
    "print(\"성별코드 칼럼 확인\")\n",
    "df.성별코드.value_counts()"
   ]
  },
  {
   "cell_type": "code",
   "execution_count": null,
   "id": "ddb00019-6102-46a2-8161-ad407529e268",
   "metadata": {},
   "outputs": [],
   "source": [
    "#불필요한 데이터 삭제하기\n",
    "df.drop(['기준년도', '가입자 일련번호', '데이터 공개일자', '성별코드', '시도코드'], axis=1, inplace=True)\n",
    "\n",
    "#별도의 test 데이터 추출하기\n",
    "test = df[df['LDL 콜레스테롤'].isnull()]\n",
    "\n",
    "#NaN 데이터 행 단위로 삭제하기\n",
    "train = df.dropna(axis=0)\n",
    "\n",
    "#학습 데이터 확인하기\n",
    "print(\"학습 데이터 확인\")\n",
    "train.head(1)"
   ]
  },
  {
   "cell_type": "code",
   "execution_count": null,
   "id": "c20b4ff7-b0bd-485a-a1bf-08dd93894ee2",
   "metadata": {},
   "outputs": [],
   "source": [
    "#정답 데이터 생성하기\n",
    "y = train['LDL 콜레스테롤']\n",
    "\n",
    "#학습 데이터 생성하기\n",
    "x = train.drop('LDL 콜레스테롤', axis=1)\n",
    "\n",
    "#validation set 추출을 위한 train_test_split 라이브러리 불러오기\n",
    "from sklearn.model_selection import train_test_split\n",
    "\n",
    "#scikit learn 예시 코드 비율대로 불러오기\n",
    "X_train, X_test, y_train, y_test = train_test_split(\n",
    "    x, y, test_size=0.3, random_state=42)\n",
    "\n",
    "#학습/검증 데이터 확인하기\n",
    "print(\"학습/검증 데이터 확인\")\n",
    "print(X_train.shape, y_train.shape, X_test.shape, y_test.shape)"
   ]
  },
  {
   "cell_type": "markdown",
   "id": "c38d0cc9-6cdb-4245-927f-1fc36468e483",
   "metadata": {},
   "source": [
    "(2) 선형 회귀 학습 및 추론하기"
   ]
  },
  {
   "cell_type": "code",
   "execution_count": null,
   "id": "332ef07e-e96d-4755-ba1b-303aa822aead",
   "metadata": {},
   "outputs": [],
   "source": [
    "#라이브러리 불러오기\n",
    "from sklearn.linear_model import LinearRegression\n",
    "\n",
    "#모델 생성하기\n",
    "reg = LinearRegression()\n",
    "\n",
    "#학습하기\n",
    "reg.fit(X_train, y_train)\n",
    "\n",
    "#기울기와 절편 확인하기\n",
    "print(f'''기울기 및 절편 확인\n",
    "기울기 확인 coef = {reg.coef_}\n",
    "절편 확인 intercept = {reg.intercept_}''')"
   ]
  },
  {
   "cell_type": "code",
   "execution_count": null,
   "id": "938be0d4-6e70-4c36-a68d-6164c6200cf9",
   "metadata": {},
   "outputs": [],
   "source": [
    "#각각 데이터에 대해 가중치(or 회귀계수) 확인하기\n",
    "print('전체에 대해서 가중치 확인')\n",
    "\n",
    "for index, columns in enumerate(X_train.columns) :\n",
    "    print(f\"{columns} = {reg.coef_[index]}\")"
   ]
  },
  {
   "cell_type": "markdown",
   "id": "797c31af-fcfc-4456-877e-cef018afb3db",
   "metadata": {},
   "source": [
    "(3) 예측을 통한 최종 검증하기"
   ]
  },
  {
   "cell_type": "code",
   "execution_count": null,
   "id": "07434446-0076-43f7-9c20-ea2540eff06d",
   "metadata": {},
   "outputs": [],
   "source": [
    "#예측하기\n",
    "y_pred = reg.predict(X_test)\n",
    "\n",
    "#결과 검증을 위해 MSE 라이브러리 불러오기\n",
    "#최종적으로는 RMSE를 사용하기\n",
    "from sklearn.metrics import mean_squeared_error\n",
    "\n",
    "#MSE 라이브러리에서는 RMSE는 squared 옵션을 False로 설정하기\n",
    "rmse = mean_squared_error(y_test, y_pred, squared=False)\n",
    "\n",
    "#주요 Feature 삭제 전 rmse 확인하기\n",
    "print(f'''주요 feature 삭제 전 rmse = {round(rmse,3)}''')"
   ]
  },
  {
   "cell_type": "markdown",
   "id": "4ae4695f-24e9-4a9f-bc56-bf08b0c91e71",
   "metadata": {},
   "source": [
    "(4) 가중치의 의미 확인하기"
   ]
  },
  {
   "cell_type": "code",
   "execution_count": null,
   "id": "4f798b28-5f99-4dc2-a686-b0b880ae0fff",
   "metadata": {},
   "outputs": [],
   "source": [
    "#주요 Feature 삭제를 위해 칼럼명 재확인하기\n",
    "train.columns"
   ]
  },
  {
   "cell_type": "code",
   "execution_count": null,
   "id": "580aad21-3ed7-47dc-950a-af08c2394979",
   "metadata": {},
   "outputs": [],
   "source": [
    "#주요 Feature 삭제하기\n",
    "x = x.drop(['총 콜레스테롤', '트리글리세라이드', 'HDL 콜레스테롤'], axis=1)\n",
    "\n",
    "#scikit learn 예시 코드 비율대로 불러오기\n",
    "X_train, X_test, y_train, y_test = train_test_split(\n",
    "    x, y, test_size=0.33, random_state=42)"
   ]
  },
  {
   "cell_type": "markdown",
   "id": "3101df3f-038e-42d9-8d18-ba19d9286d7b",
   "metadata": {},
   "source": [
    "(5) 선형 회귀 모델 재학습하기"
   ]
  },
  {
   "cell_type": "code",
   "execution_count": null,
   "id": "383c9d4d-514a-441d-8adf-80960883f8fc",
   "metadata": {},
   "outputs": [],
   "source": [
    "#선형 회귀 재생성 및 학습하기\n",
    "lr = LinearRegression()\n",
    "lr.fit(X_train, y_train)\n",
    "\n",
    "#각각 데이터에 대해 가중치(또는 회귀계수) 확인하기\n",
    "print(f'''coef\n",
    "{lr.coef_}\n",
    "intercept\n",
    "{lr.intercept_}''')"
   ]
  },
  {
   "cell_type": "markdown",
   "id": "266c160b-b2a0-432d-a876-92a4a0068810",
   "metadata": {},
   "source": [
    "(6) 가중치 비교하기"
   ]
  },
  {
   "cell_type": "code",
   "execution_count": null,
   "id": "7cadeb6e-984c-42ed-a4fc-567776bee8a2",
   "metadata": {},
   "outputs": [],
   "source": [
    "#검증 데이터로 예측하기\n",
    "y_pred = lr.predict(X_test)"
   ]
  },
  {
   "cell_type": "code",
   "execution_count": null,
   "id": "da685691-a8fc-4619-ac8c-8e636a2c241d",
   "metadata": {},
   "outputs": [],
   "source": [
    "#각각 데이터에 대해 가중치(또는 회귀계수) 확인하기\n",
    "print(\"가중치 확인\")\n",
    "\n",
    "for index, columns in enumerate(X_train.columns) :\n",
    "    print(f\"{columns} = {reg.coef_[index]}\")"
   ]
  },
  {
   "cell_type": "code",
   "execution_count": null,
   "id": "2c3da0e0-d1ba-454c-9642-bcb0ee158012",
   "metadata": {},
   "outputs": [],
   "source": [
    "#주요 Feature 삭제 후 RMSE 확인하기\n",
    "rmse_2 = mean_squared_error(y_test, y_pred, squared=False)\n",
    "\n",
    "#가중치가 큰 특성을 삭제했을 때 영향을 많이 받는지 확인하기\n",
    "print(f'''주요 Feature 삭제 후 rmse = {round(rmse_2,3)}''')"
   ]
  },
  {
   "cell_type": "markdown",
   "id": "f42d37d8-7e59-430e-909b-bf8642983e81",
   "metadata": {},
   "source": [
    "선형 회귀 기반의 간단한 모델을 학습하였다. Feature의 존재 여부에 따라 rmse 값이 매우 차이나는 것을 확인하였다."
   ]
  }
 ],
 "metadata": {
  "kernelspec": {
   "display_name": "Python 3 (ipykernel)",
   "language": "python",
   "name": "python3"
  },
  "language_info": {
   "codemirror_mode": {
    "name": "ipython",
    "version": 3
   },
   "file_extension": ".py",
   "mimetype": "text/x-python",
   "name": "python",
   "nbconvert_exporter": "python",
   "pygments_lexer": "ipython3",
   "version": "3.9.18"
  }
 },
 "nbformat": 4,
 "nbformat_minor": 5
}
